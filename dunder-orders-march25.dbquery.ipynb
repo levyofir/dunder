{
 "cells": [
  {
   "cell_type": "code",
   "execution_count": 0,
   "metadata": {
    "application/vnd.databricks.v1+cell": {
     "cellMetadata": {},
     "inputWidgets": {},
     "nuid": "28ab5219-1f1a-4e49-ae65-fe1987220345",
     "showTitle": false,
     "tableResultSettingsMap": {},
     "title": ""
    }
   },
   "outputs": [],
   "source": [
    "-- Create a table\n",
    "CREATE TABLE IF NOT EXISTS employees (\n",
    "    employee_id INT PRIMARY KEY,\n",
    "    first_name VARCHAR(50),\n",
    "    last_name VARCHAR(40),\n",
    "    hire_date DATE,\n",
    "    salary DECIMAL(11,2)\n",
    ");\n",
    "\n",
    "-- Insert data\n",
    "INSERT INTO employees VALUES \n",
    "(1, 'John', 'Smith', '2023-01-15', 65000.00),\n",
    "(2, 'Mary', 'Johnson', '2023-03-20', 72000.00),\n",
    "(3, 'David', 'Brown', '2023-06-10', 58000.00);\n",
    "\n",
    "-- Select data with conditions\n",
    "SELECT first_name, last_name, salary\n",
    "FROM employees\n",
    "WHERE salary > 70000\n",
    "ORDER BY salary DESC;\n",
    "\n",
    "-- Update data\n",
    "UPDATE employees\n",
    "SET salary = salary * 1.1\n",
    "WHERE hire_date < '2023-04-01';\n",
    "\n",
    "-- Delete data\n",
    "DELETE FROM employees\n",
    "WHERE employee_id = 3;\n",
    "\n",
    "Alter table to add a new column\n",
    "ALTER TABLE employees\n",
    "ADD email VARCHAR(100) DEFAULT 'none@company.com';"
   ]
  }
 ],
 "metadata": {
  "application/vnd.databricks.v1+notebook": {
   "computePreferences": null,
   "dashboards": [],
   "environmentMetadata": null,
   "inputWidgetPreferences": null,
   "language": "sql",
   "notebookMetadata": {
    "sqlQueryOptions": {
     "applyAutoLimit": true,
     "catalog": "workspace",
     "schema": "default"
    }
   },
   "notebookName": "dunder-orders-march25.dbquery.ipynb",
   "widgets": {}
  },
  "language_info": {
   "name": "sql"
  }
 },
 "nbformat": 4,
 "nbformat_minor": 0
}
